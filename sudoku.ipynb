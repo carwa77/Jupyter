{
 "cells": [
  {
   "cell_type": "markdown",
   "metadata": {},
   "source": [
    "En sudoku lösare som prövar sig fram"
   ]
  },
  {
   "cell_type": "code",
   "execution_count": null,
   "metadata": {},
   "outputs": [],
   "source": [
    "grid = [[0,5,7,0,0,9,0,0,0],\n",
    "        [0,0,0,0,0,0,5,0,0],\n",
    "        [0,9,2,0,0,0,0,6,0],\n",
    "        [0,8,0,0,0,0,4,0,7],\n",
    "        [0,2,0,6,0,0,0,1,0],\n",
    "        [0,7,0,2,5,0,0,8,0],\n",
    "        [0,0,0,0,4,0,0,0,0],\n",
    "        [0,0,8,0,2,0,0,0,0],\n",
    "        [7,3,0,0,0,1,0,0,0]]"
   ]
  },
  {
   "cell_type": "code",
   "execution_count": null,
   "metadata": {},
   "outputs": [],
   "source": [
    "import numpy as np\n",
    "print(np.matrix(grid))"
   ]
  },
  {
   "cell_type": "code",
   "execution_count": 3,
   "metadata": {},
   "outputs": [],
   "source": [
    "def mojlig(y,x,n) :\n",
    "    global grid\n",
    "    for i in range(0,9) :\n",
    "        if grid[y][i] == n :\n",
    "            return False\n",
    "    for i in range(0,9) :\n",
    "        if grid[i][x] ==n :\n",
    "            return False\n",
    "    x0 = (x//3)*3\n",
    "    y0 = (y//3)*3\n",
    "    for i in range(0,3) :\n",
    "        for j in range(0,3) :\n",
    "            if grid[y0+i][x0+j] == n :\n",
    "                return False\n",
    "    return True"
   ]
  },
  {
   "cell_type": "markdown",
   "metadata": {},
   "source": [
    "En funktion som kollar om det är möjligt att sätta n i ruta y,x där y är rad och x kolumn. origo är övre vänstra hörnet\n"
   ]
  },
  {
   "cell_type": "code",
   "execution_count": 4,
   "metadata": {},
   "outputs": [
    {
     "data": {
      "text/plain": [
       "False"
      ]
     },
     "execution_count": 4,
     "metadata": {},
     "output_type": "execute_result"
    }
   ],
   "source": [
    "mojlig(3,8,1)"
   ]
  },
  {
   "cell_type": "code",
   "execution_count": 5,
   "metadata": {},
   "outputs": [],
   "source": [
    "def losning() :\n",
    "    global grid\n",
    "    for y in range(9) :\n",
    "        for x in range(9) :\n",
    "            if grid[y][x] == 0 :\n",
    "                for n in range(1,10) :\n",
    "                    if mojlig(y,x,n) :\n",
    "                        grid[y][x] = n\n",
    "                        losning()\n",
    "                        grid[y][x] = 0\n",
    "                return\n",
    "    print(np.matrix(grid))\n",
    "    input(\"more?\")"
   ]
  },
  {
   "cell_type": "code",
   "execution_count": null,
   "metadata": {},
   "outputs": [],
   "source": [
    "losning()"
   ]
  },
  {
   "cell_type": "code",
   "execution_count": null,
   "metadata": {},
   "outputs": [],
   "source": []
  },
  {
   "cell_type": "code",
   "execution_count": null,
   "metadata": {},
   "outputs": [],
   "source": []
  }
 ],
 "metadata": {
  "kernelspec": {
   "display_name": "Python 3",
   "language": "python",
   "name": "python3"
  },
  "language_info": {
   "codemirror_mode": {
    "name": "ipython",
    "version": 3
   },
   "file_extension": ".py",
   "mimetype": "text/x-python",
   "name": "python",
   "nbconvert_exporter": "python",
   "pygments_lexer": "ipython3",
   "version": "3.7.3"
  }
 },
 "nbformat": 4,
 "nbformat_minor": 4
}
